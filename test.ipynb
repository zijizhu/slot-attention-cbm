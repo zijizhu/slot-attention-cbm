{
 "cells": [
  {
   "cell_type": "code",
   "execution_count": 1,
   "metadata": {},
   "outputs": [
    {
     "name": "stderr",
     "output_type": "stream",
     "text": [
      "/opt/homebrew/Caskroom/miniforge/base/envs/research/lib/python3.12/site-packages/tqdm/auto.py:21: TqdmWarning: IProgress not found. Please update jupyter and ipywidgets. See https://ipywidgets.readthedocs.io/en/stable/user_install.html\n",
      "  from .autonotebook import tqdm as notebook_tqdm\n"
     ]
    }
   ],
   "source": [
    "import os\n",
    "import math\n",
    "import torch\n",
    "import numpy as np\n",
    "import pandas as pd\n",
    "from torch import nn\n",
    "from PIL import Image\n",
    "import torch.nn.functional as F\n",
    "import torchvision.transforms as T\n",
    "from torch.autograd import Variable\n",
    "from timm import create_model, list_models\n",
    "from torch.utils.data import Dataset, DataLoader"
   ]
  },
  {
   "cell_type": "code",
   "execution_count": 85,
   "metadata": {},
   "outputs": [],
   "source": [
    "resnet = create_model('resnet18', pretrained=True)\n",
    "conv1x1 = nn.Conv2d(512, 128, kernel_size=(1, 1), stride=(1, 1))"
   ]
  },
  {
   "cell_type": "code",
   "execution_count": 258,
   "metadata": {},
   "outputs": [
    {
     "data": {
      "text/plain": [
       "torch.Size([1, 10, 128])"
      ]
     },
     "execution_count": 258,
     "metadata": {},
     "output_type": "execute_result"
    }
   ],
   "source": [
    "torch.randn(1, 1, 128).expand(-1,10,-1).size()"
   ]
  },
  {
   "cell_type": "code",
   "execution_count": 315,
   "metadata": {},
   "outputs": [],
   "source": [
    "class Arguments:\n",
    "    def __init__(self) -> None:\n",
    "        self.pre_train = False\n",
    "        self.base_model = 'resnet18'\n",
    "        self.feature_size = 7\n",
    "        self.num_cpt = 15\n",
    "        self.num_classes = 200\n",
    "        self.cpt_activation = 'att'\n",
    "\n",
    "args = Arguments()\n",
    "model = MainModel(args)"
   ]
  },
  {
   "cell_type": "code",
   "execution_count": 316,
   "metadata": {},
   "outputs": [
    {
     "name": "stdout",
     "output_type": "stream",
     "text": [
      "x.shape: torch.Size([32, 49, 128]) x_pe.shape: torch.Size([32, 49, 128])\n",
      "updates.shape: torch.Size([32, 15, 128]) attn.shape: torch.Size([32, 15, 49])\n",
      "attn_cls.shape: torch.Size([32, 15])\n"
     ]
    }
   ],
   "source": [
    "a, b, c, d = model(torch.randn(32, 3, 224, 224))"
   ]
  },
  {
   "cell_type": "code",
   "execution_count": 303,
   "metadata": {},
   "outputs": [
    {
     "data": {
      "text/plain": [
       "True"
      ]
     },
     "execution_count": 303,
     "metadata": {},
     "output_type": "execute_result"
    }
   ],
   "source": [
    "dots = torch.rand([32, 15, 49])\n",
    "a = torch.div(dots, dots.sum(2).expand_as(dots.permute([2, 0, 1])).permute([1, 2, 0])) * \\\n",
    "                   dots.sum(2).sum(1).expand_as(dots.permute([1, 2, 0])).permute([2, 0, 1])\n",
    "b = torch.div(dots, dots.sum(2).unsqueeze(-1).expand_as(dots)) * dots.sum(2).sum(1)[:, None, None].expand_as(dots)\n",
    "torch.equal(a, b)"
   ]
  },
  {
   "cell_type": "code",
   "execution_count": null,
   "metadata": {},
   "outputs": [],
   "source": [
    "dots.sum(2).expand_as(dots.permute([2, 0, 1])).permute([1, 2, 0])) * dots.sum(2).sum(1).expand_as(dots.permute([1, 2, 0])).permute([2, 0, 1]"
   ]
  },
  {
   "cell_type": "code",
   "execution_count": null,
   "metadata": {},
   "outputs": [],
   "source": []
  },
  {
   "cell_type": "code",
   "execution_count": null,
   "metadata": {},
   "outputs": [],
   "source": []
  },
  {
   "cell_type": "code",
   "execution_count": 2,
   "metadata": {},
   "outputs": [],
   "source": [
    "def pairwise_loss(outputs1, outputs2, label1, label2, sigmoid_param=1.):\n",
    "    similarity = Variable(torch.mm(label1.data.float(), label2.data.float().t()) > 0).float()\n",
    "    dot_product = sigmoid_param * torch.mm(outputs1, outputs2.t())\n",
    "    exp_product = torch.exp(dot_product)\n",
    "\n",
    "    exp_loss = (torch.log(1 + exp_product) - similarity * dot_product)\n",
    "    mask_positive = similarity > 0\n",
    "    mask_negative = similarity <= 0\n",
    "    S1 = torch.sum(mask_positive.float())\n",
    "    S0 = torch.sum(mask_negative.float())\n",
    "    S = S0+S1\n",
    "\n",
    "    exp_loss[similarity > 0] = exp_loss[similarity > 0] * (S / S1)\n",
    "    exp_loss[similarity <= 0] = exp_loss[similarity <= 0] * (S / S0)\n",
    "\n",
    "    loss = torch.mean(exp_loss)\n",
    "\n",
    "    return loss"
   ]
  },
  {
   "cell_type": "code",
   "execution_count": 6,
   "metadata": {},
   "outputs": [
    {
     "data": {
      "text/plain": [
       "tensor(2.9113)"
      ]
     },
     "execution_count": 6,
     "metadata": {},
     "output_type": "execute_result"
    }
   ],
   "source": [
    "batch_size, num_concepts = 32, 10\n",
    "outputs1 = torch.randn(batch_size, num_concepts)\n",
    "outputs2 = torch.randn(batch_size, num_concepts)\n",
    "y1 = torch.randn(batch_size, num_concepts)\n",
    "y2 = torch.randn(batch_size, num_concepts)\n",
    "\n",
    "\n",
    "pairwise_loss(outputs1, outputs2, y1, y2)"
   ]
  },
  {
   "cell_type": "code",
   "execution_count": null,
   "metadata": {},
   "outputs": [],
   "source": []
  },
  {
   "cell_type": "code",
   "execution_count": null,
   "metadata": {},
   "outputs": [],
   "source": []
  }
 ],
 "metadata": {
  "kernelspec": {
   "display_name": "research",
   "language": "python",
   "name": "python3"
  },
  "language_info": {
   "codemirror_mode": {
    "name": "ipython",
    "version": 3
   },
   "file_extension": ".py",
   "mimetype": "text/x-python",
   "name": "python",
   "nbconvert_exporter": "python",
   "pygments_lexer": "ipython3",
   "version": "3.12.2"
  }
 },
 "nbformat": 4,
 "nbformat_minor": 2
}

{
 "cells": [
  {
   "cell_type": "code",
   "execution_count": 57,
   "metadata": {},
   "outputs": [],
   "source": [
    "import os\n",
    "import torch\n",
    "import pandas as pd\n",
    "from PIL import Image\n",
    "from torch.utils.data import Dataset, DataLoader\n",
    "import torchvision.transforms as T\n",
    "\n",
    "\n",
    "class CUBDataset(Dataset):\n",
    "    def __init__(self, dataset_dir, split='train', transforms=None) -> None:\n",
    "        super().__init__()\n",
    "        self.split = split\n",
    "        self.transforms = transforms\n",
    "        self.dataset_dir = dataset_dir\n",
    "        file_path_df = pd.read_csv(os.path.join(dataset_dir, 'CUB_200_2011', 'images.txt'), sep=' ',\n",
    "                                   header=None, names=['img_id', 'file_path'])\n",
    "        img_class_df = pd.read_csv(os.path.join(dataset_dir, 'CUB_200_2011', 'image_class_labels.txt'),\n",
    "                                   sep=' ', header=None, names=['img_id', 'class_id'])\n",
    "        train_test_split_df = pd.read_csv(os.path.join(dataset_dir, 'CUB_200_2011', 'train_test_split.txt'),\n",
    "                                          sep=' ', header=None, names=['img_id', 'is_train'])\n",
    "        merged_df = file_path_df.merge(img_class_df, on='img_id').merge(train_test_split_df, on='img_id')\n",
    "        \n",
    "        # Make class_id 0-indexed\n",
    "        merged_df['class_id'] = merged_df['class_id'] - 1\n",
    "        self.class_id2name = {}\n",
    "        for line in open('datasets/CUB_200_2011/classes.txt'):\n",
    "            [class_id, class_name] = line.strip().split(' ')\n",
    "            self.class_id2name[int(class_id) - 1] = class_name\n",
    "\n",
    "        train_df = merged_df[merged_df['is_train'] == 1].drop(columns=['is_train']).reset_index(drop=True)\n",
    "        test_df = merged_df[merged_df['is_train'] == 0].drop(columns=['is_train']).reset_index(drop=True)\n",
    "\n",
    "        self.annotations = {'train': train_df, 'test': test_df}\n",
    "\n",
    "    def __len__(self):\n",
    "        return len(self.annotations[self.split])\n",
    "\n",
    "    def __getitem__(self, idx):\n",
    "        img_id, file_path, class_id = self.annotations[self.split].iloc[idx]\n",
    "        image = Image.open(os.path.join(self.dataset_dir, 'CUB_200_2011', 'images', file_path))\n",
    "        if self.transforms is not None:\n",
    "            image = self.transforms(image)\n",
    "        return torch.tensor(img_id), image, torch.tensor(class_id)"
   ]
  },
  {
   "cell_type": "code",
   "execution_count": 58,
   "metadata": {},
   "outputs": [],
   "source": [
    "# Train\n",
    "augs_train = T.Compose([\n",
    "    T.Resize((256, 256), Image.BILINEAR),\n",
    "    T.RandomCrop((224, 224)),\n",
    "    T.RandomHorizontalFlip(),\n",
    "    T.ToTensor(),\n",
    "    T.Normalize([0.485, 0.456, 0.406], [0.229, 0.224, 0.225])\n",
    "])\n",
    "# Test\n",
    "augs_test = T.Compose([\n",
    "    T.Resize((256, 256), Image.BILINEAR),\n",
    "    T.CenterCrop((224, 224)),\n",
    "    T.ToTensor(),\n",
    "    T.Normalize([0.485, 0.456, 0.406], [0.229, 0.224, 0.225])\n",
    "])"
   ]
  },
  {
   "cell_type": "code",
   "execution_count": 63,
   "metadata": {},
   "outputs": [],
   "source": [
    "dataset_train = CUBDataset('datasets', 'train', augs_train)\n",
    "dataloader_train = DataLoader(dataset_train, 64, shuffle=True)"
   ]
  },
  {
   "cell_type": "code",
   "execution_count": 65,
   "metadata": {},
   "outputs": [],
   "source": [
    "img_ids, batch_imgs, batch_labels = next(iter(dataloader_train))"
   ]
  },
  {
   "cell_type": "code",
   "execution_count": 66,
   "metadata": {},
   "outputs": [
    {
     "data": {
      "text/plain": [
       "torch.Size([64, 3, 224, 224])"
      ]
     },
     "execution_count": 66,
     "metadata": {},
     "output_type": "execute_result"
    }
   ],
   "source": [
    "batch_imgs.size()"
   ]
  },
  {
   "cell_type": "code",
   "execution_count": null,
   "metadata": {},
   "outputs": [],
   "source": []
  },
  {
   "cell_type": "code",
   "execution_count": null,
   "metadata": {},
   "outputs": [],
   "source": []
  },
  {
   "cell_type": "code",
   "execution_count": null,
   "metadata": {},
   "outputs": [],
   "source": []
  },
  {
   "cell_type": "code",
   "execution_count": 31,
   "metadata": {},
   "outputs": [
    {
     "data": {
      "text/html": [
       "<div>\n",
       "<style scoped>\n",
       "    .dataframe tbody tr th:only-of-type {\n",
       "        vertical-align: middle;\n",
       "    }\n",
       "\n",
       "    .dataframe tbody tr th {\n",
       "        vertical-align: top;\n",
       "    }\n",
       "\n",
       "    .dataframe thead th {\n",
       "        text-align: right;\n",
       "    }\n",
       "</style>\n",
       "<table border=\"1\" class=\"dataframe\">\n",
       "  <thead>\n",
       "    <tr style=\"text-align: right;\">\n",
       "      <th></th>\n",
       "      <th>img_id</th>\n",
       "      <th>is_train</th>\n",
       "    </tr>\n",
       "  </thead>\n",
       "  <tbody>\n",
       "    <tr>\n",
       "      <th>0</th>\n",
       "      <td>1</td>\n",
       "      <td>0</td>\n",
       "    </tr>\n",
       "    <tr>\n",
       "      <th>1</th>\n",
       "      <td>2</td>\n",
       "      <td>1</td>\n",
       "    </tr>\n",
       "    <tr>\n",
       "      <th>2</th>\n",
       "      <td>3</td>\n",
       "      <td>0</td>\n",
       "    </tr>\n",
       "    <tr>\n",
       "      <th>3</th>\n",
       "      <td>4</td>\n",
       "      <td>1</td>\n",
       "    </tr>\n",
       "    <tr>\n",
       "      <th>4</th>\n",
       "      <td>5</td>\n",
       "      <td>1</td>\n",
       "    </tr>\n",
       "    <tr>\n",
       "      <th>...</th>\n",
       "      <td>...</td>\n",
       "      <td>...</td>\n",
       "    </tr>\n",
       "    <tr>\n",
       "      <th>11783</th>\n",
       "      <td>11784</td>\n",
       "      <td>1</td>\n",
       "    </tr>\n",
       "    <tr>\n",
       "      <th>11784</th>\n",
       "      <td>11785</td>\n",
       "      <td>0</td>\n",
       "    </tr>\n",
       "    <tr>\n",
       "      <th>11785</th>\n",
       "      <td>11786</td>\n",
       "      <td>0</td>\n",
       "    </tr>\n",
       "    <tr>\n",
       "      <th>11786</th>\n",
       "      <td>11787</td>\n",
       "      <td>1</td>\n",
       "    </tr>\n",
       "    <tr>\n",
       "      <th>11787</th>\n",
       "      <td>11788</td>\n",
       "      <td>0</td>\n",
       "    </tr>\n",
       "  </tbody>\n",
       "</table>\n",
       "<p>11788 rows × 2 columns</p>\n",
       "</div>"
      ],
      "text/plain": [
       "       img_id  is_train\n",
       "0           1         0\n",
       "1           2         1\n",
       "2           3         0\n",
       "3           4         1\n",
       "4           5         1\n",
       "...       ...       ...\n",
       "11783   11784         1\n",
       "11784   11785         0\n",
       "11785   11786         0\n",
       "11786   11787         1\n",
       "11787   11788         0\n",
       "\n",
       "[11788 rows x 2 columns]"
      ]
     },
     "execution_count": 31,
     "metadata": {},
     "output_type": "execute_result"
    }
   ],
   "source": [
    "file_path_df = pd.read_csv('datasets/CUB_200_2011/images.txt', sep=' ', header=None, names=['img_id', 'file_path'])\n",
    "img_class_df = pd.read_csv('datasets/CUB_200_2011/image_class_labels.txt', sep=' ', header=None, names=['img_id', 'class_id'])\n",
    "train_test_split_df = pd.read_csv('datasets/CUB_200_2011/train_test_split.txt', sep=' ', header=None, names=['img_id', 'is_train'])\n",
    "train_test_split_df"
   ]
  },
  {
   "cell_type": "code",
   "execution_count": 42,
   "metadata": {},
   "outputs": [
    {
     "data": {
      "text/html": [
       "<div>\n",
       "<style scoped>\n",
       "    .dataframe tbody tr th:only-of-type {\n",
       "        vertical-align: middle;\n",
       "    }\n",
       "\n",
       "    .dataframe tbody tr th {\n",
       "        vertical-align: top;\n",
       "    }\n",
       "\n",
       "    .dataframe thead th {\n",
       "        text-align: right;\n",
       "    }\n",
       "</style>\n",
       "<table border=\"1\" class=\"dataframe\">\n",
       "  <thead>\n",
       "    <tr style=\"text-align: right;\">\n",
       "      <th></th>\n",
       "      <th>img_id</th>\n",
       "      <th>file_path</th>\n",
       "      <th>class_id</th>\n",
       "    </tr>\n",
       "  </thead>\n",
       "  <tbody>\n",
       "    <tr>\n",
       "      <th>0</th>\n",
       "      <td>1</td>\n",
       "      <td>001.Black_footed_Albatross/Black_Footed_Albatr...</td>\n",
       "      <td>0</td>\n",
       "    </tr>\n",
       "    <tr>\n",
       "      <th>1</th>\n",
       "      <td>3</td>\n",
       "      <td>001.Black_footed_Albatross/Black_Footed_Albatr...</td>\n",
       "      <td>0</td>\n",
       "    </tr>\n",
       "    <tr>\n",
       "      <th>2</th>\n",
       "      <td>6</td>\n",
       "      <td>001.Black_footed_Albatross/Black_Footed_Albatr...</td>\n",
       "      <td>0</td>\n",
       "    </tr>\n",
       "    <tr>\n",
       "      <th>3</th>\n",
       "      <td>10</td>\n",
       "      <td>001.Black_footed_Albatross/Black_Footed_Albatr...</td>\n",
       "      <td>0</td>\n",
       "    </tr>\n",
       "    <tr>\n",
       "      <th>4</th>\n",
       "      <td>12</td>\n",
       "      <td>001.Black_footed_Albatross/Black_Footed_Albatr...</td>\n",
       "      <td>0</td>\n",
       "    </tr>\n",
       "    <tr>\n",
       "      <th>...</th>\n",
       "      <td>...</td>\n",
       "      <td>...</td>\n",
       "      <td>...</td>\n",
       "    </tr>\n",
       "    <tr>\n",
       "      <th>5789</th>\n",
       "      <td>11780</td>\n",
       "      <td>200.Common_Yellowthroat/Common_Yellowthroat_00...</td>\n",
       "      <td>199</td>\n",
       "    </tr>\n",
       "    <tr>\n",
       "      <th>5790</th>\n",
       "      <td>11783</td>\n",
       "      <td>200.Common_Yellowthroat/Common_Yellowthroat_00...</td>\n",
       "      <td>199</td>\n",
       "    </tr>\n",
       "    <tr>\n",
       "      <th>5791</th>\n",
       "      <td>11785</td>\n",
       "      <td>200.Common_Yellowthroat/Common_Yellowthroat_00...</td>\n",
       "      <td>199</td>\n",
       "    </tr>\n",
       "    <tr>\n",
       "      <th>5792</th>\n",
       "      <td>11786</td>\n",
       "      <td>200.Common_Yellowthroat/Common_Yellowthroat_00...</td>\n",
       "      <td>199</td>\n",
       "    </tr>\n",
       "    <tr>\n",
       "      <th>5793</th>\n",
       "      <td>11788</td>\n",
       "      <td>200.Common_Yellowthroat/Common_Yellowthroat_00...</td>\n",
       "      <td>199</td>\n",
       "    </tr>\n",
       "  </tbody>\n",
       "</table>\n",
       "<p>5794 rows × 3 columns</p>\n",
       "</div>"
      ],
      "text/plain": [
       "      img_id                                          file_path  class_id\n",
       "0          1  001.Black_footed_Albatross/Black_Footed_Albatr...         0\n",
       "1          3  001.Black_footed_Albatross/Black_Footed_Albatr...         0\n",
       "2          6  001.Black_footed_Albatross/Black_Footed_Albatr...         0\n",
       "3         10  001.Black_footed_Albatross/Black_Footed_Albatr...         0\n",
       "4         12  001.Black_footed_Albatross/Black_Footed_Albatr...         0\n",
       "...      ...                                                ...       ...\n",
       "5789   11780  200.Common_Yellowthroat/Common_Yellowthroat_00...       199\n",
       "5790   11783  200.Common_Yellowthroat/Common_Yellowthroat_00...       199\n",
       "5791   11785  200.Common_Yellowthroat/Common_Yellowthroat_00...       199\n",
       "5792   11786  200.Common_Yellowthroat/Common_Yellowthroat_00...       199\n",
       "5793   11788  200.Common_Yellowthroat/Common_Yellowthroat_00...       199\n",
       "\n",
       "[5794 rows x 3 columns]"
      ]
     },
     "execution_count": 42,
     "metadata": {},
     "output_type": "execute_result"
    }
   ],
   "source": [
    "merged_df = file_path_df.merge(img_class_df, on='img_id').merge(train_test_split_df, on='img_id')\n",
    "merged_df['class_id'] = merged_df['class_id'] - 1\n",
    "train_df = merged_df[merged_df['is_train'] == 1].drop(columns=['is_train']).reset_index(drop=True)\n",
    "test_df = merged_df[merged_df['is_train'] == 0].drop(columns=['is_train']).reset_index(drop=True)\n",
    "test_df"
   ]
  },
  {
   "cell_type": "code",
   "execution_count": 48,
   "metadata": {},
   "outputs": [
    {
     "data": {
      "text/plain": [
       "5994"
      ]
     },
     "execution_count": 48,
     "metadata": {},
     "output_type": "execute_result"
    }
   ],
   "source": [
    "len(train_df)"
   ]
  },
  {
   "cell_type": "code",
   "execution_count": 45,
   "metadata": {},
   "outputs": [],
   "source": [
    "img_id, file_path, class_id = train_df.iloc[100]"
   ]
  },
  {
   "cell_type": "code",
   "execution_count": 46,
   "metadata": {},
   "outputs": [
    {
     "data": {
      "text/plain": [
       "(202, '004.Groove_billed_Ani/Groove_Billed_Ani_0051_1650.jpg', 3)"
      ]
     },
     "execution_count": 46,
     "metadata": {},
     "output_type": "execute_result"
    }
   ],
   "source": [
    "img_id, file_path, class_id"
   ]
  },
  {
   "cell_type": "code",
   "execution_count": null,
   "metadata": {},
   "outputs": [],
   "source": []
  }
 ],
 "metadata": {
  "kernelspec": {
   "display_name": "research",
   "language": "python",
   "name": "python3"
  },
  "language_info": {
   "codemirror_mode": {
    "name": "ipython",
    "version": 3
   },
   "file_extension": ".py",
   "mimetype": "text/x-python",
   "name": "python",
   "nbconvert_exporter": "python",
   "pygments_lexer": "ipython3",
   "version": "3.12.2"
  }
 },
 "nbformat": 4,
 "nbformat_minor": 2
}

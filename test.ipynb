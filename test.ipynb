{
 "cells": [
  {
   "cell_type": "code",
   "execution_count": 1,
   "metadata": {},
   "outputs": [],
   "source": [
    "import os\n",
    "import math\n",
    "import clip\n",
    "import torch\n",
    "import numpy as np\n",
    "import pandas as pd\n",
    "from torch import nn\n",
    "from PIL import Image\n",
    "from copy import deepcopy\n",
    "import torch.nn.functional as F\n",
    "import torchvision.transforms as T\n",
    "from torch.autograd import Variable\n",
    "from timm import create_model, list_models\n",
    "from torch.utils.data import Dataset, DataLoader"
   ]
  },
  {
   "cell_type": "code",
   "execution_count": 14,
   "metadata": {},
   "outputs": [],
   "source": [
    "class MaskClipHead(nn.Module):\n",
    "    def __init__(self, text_emb, in_dim, out_dim) -> None:\n",
    "        super(MaskClipHead, self).__init__()\n",
    "        self.k_proj = nn.Linear(in_dim, in_dim)\n",
    "        self.q_proj = nn.Linear(in_dim, in_dim)\n",
    "        self.v_proj = nn.Linear(in_dim, in_dim)\n",
    "        self.c_proj = nn.Linear(in_dim, out_dim)\n",
    "        self.register_buffer('text_emb', text_emb)\n",
    "\n",
    "    def forward(self, x):\n",
    "        \n",
    "        x = self.v_proj(x)\n",
    "        x = self.c_proj(x)\n",
    "        x = F.conv2d(x, self.text_emb[:, :, None, None])\n",
    "\n",
    "class MaskClip(nn.Module):\n",
    "    def __init__(self, clip_model) -> None:\n",
    "        super(MaskClip, self).__init__()\n",
    "        self._clip_model = clip_model"
   ]
  },
  {
   "cell_type": "code",
   "execution_count": 16,
   "metadata": {},
   "outputs": [
    {
     "ename": "RuntimeError",
     "evalue": "mat1 and mat2 shapes cannot be multiplied (143360x7 and 1024x1024)",
     "output_type": "error",
     "traceback": [
      "\u001b[0;31m---------------------------------------------------------------------------\u001b[0m",
      "\u001b[0;31mRuntimeError\u001b[0m                              Traceback (most recent call last)",
      "Cell \u001b[0;32mIn[16], line 2\u001b[0m\n\u001b[1;32m      1\u001b[0m mask_clip_head \u001b[38;5;241m=\u001b[39m MaskClipHead(torch\u001b[38;5;241m.\u001b[39mrandn(\u001b[38;5;241m10\u001b[39m, \u001b[38;5;241m1024\u001b[39m), \u001b[38;5;241m1024\u001b[39m, \u001b[38;5;241m2048\u001b[39m)\n\u001b[0;32m----> 2\u001b[0m \u001b[43mmask_clip_head\u001b[49m\u001b[43m(\u001b[49m\u001b[43mtorch\u001b[49m\u001b[38;5;241;43m.\u001b[39;49m\u001b[43mrand\u001b[49m\u001b[43m(\u001b[49m\u001b[38;5;241;43m10\u001b[39;49m\u001b[43m,\u001b[49m\u001b[43m \u001b[49m\u001b[38;5;241;43m2048\u001b[39;49m\u001b[43m,\u001b[49m\u001b[43m \u001b[49m\u001b[38;5;241;43m7\u001b[39;49m\u001b[43m,\u001b[49m\u001b[43m \u001b[49m\u001b[38;5;241;43m7\u001b[39;49m\u001b[43m)\u001b[49m\u001b[43m)\u001b[49m\n",
      "File \u001b[0;32m/opt/homebrew/Caskroom/miniforge/base/envs/research/lib/python3.12/site-packages/torch/nn/modules/module.py:1511\u001b[0m, in \u001b[0;36mModule._wrapped_call_impl\u001b[0;34m(self, *args, **kwargs)\u001b[0m\n\u001b[1;32m   1509\u001b[0m     \u001b[38;5;28;01mreturn\u001b[39;00m \u001b[38;5;28mself\u001b[39m\u001b[38;5;241m.\u001b[39m_compiled_call_impl(\u001b[38;5;241m*\u001b[39margs, \u001b[38;5;241m*\u001b[39m\u001b[38;5;241m*\u001b[39mkwargs)  \u001b[38;5;66;03m# type: ignore[misc]\u001b[39;00m\n\u001b[1;32m   1510\u001b[0m \u001b[38;5;28;01melse\u001b[39;00m:\n\u001b[0;32m-> 1511\u001b[0m     \u001b[38;5;28;01mreturn\u001b[39;00m \u001b[38;5;28;43mself\u001b[39;49m\u001b[38;5;241;43m.\u001b[39;49m\u001b[43m_call_impl\u001b[49m\u001b[43m(\u001b[49m\u001b[38;5;241;43m*\u001b[39;49m\u001b[43margs\u001b[49m\u001b[43m,\u001b[49m\u001b[43m \u001b[49m\u001b[38;5;241;43m*\u001b[39;49m\u001b[38;5;241;43m*\u001b[39;49m\u001b[43mkwargs\u001b[49m\u001b[43m)\u001b[49m\n",
      "File \u001b[0;32m/opt/homebrew/Caskroom/miniforge/base/envs/research/lib/python3.12/site-packages/torch/nn/modules/module.py:1520\u001b[0m, in \u001b[0;36mModule._call_impl\u001b[0;34m(self, *args, **kwargs)\u001b[0m\n\u001b[1;32m   1515\u001b[0m \u001b[38;5;66;03m# If we don't have any hooks, we want to skip the rest of the logic in\u001b[39;00m\n\u001b[1;32m   1516\u001b[0m \u001b[38;5;66;03m# this function, and just call forward.\u001b[39;00m\n\u001b[1;32m   1517\u001b[0m \u001b[38;5;28;01mif\u001b[39;00m \u001b[38;5;129;01mnot\u001b[39;00m (\u001b[38;5;28mself\u001b[39m\u001b[38;5;241m.\u001b[39m_backward_hooks \u001b[38;5;129;01mor\u001b[39;00m \u001b[38;5;28mself\u001b[39m\u001b[38;5;241m.\u001b[39m_backward_pre_hooks \u001b[38;5;129;01mor\u001b[39;00m \u001b[38;5;28mself\u001b[39m\u001b[38;5;241m.\u001b[39m_forward_hooks \u001b[38;5;129;01mor\u001b[39;00m \u001b[38;5;28mself\u001b[39m\u001b[38;5;241m.\u001b[39m_forward_pre_hooks\n\u001b[1;32m   1518\u001b[0m         \u001b[38;5;129;01mor\u001b[39;00m _global_backward_pre_hooks \u001b[38;5;129;01mor\u001b[39;00m _global_backward_hooks\n\u001b[1;32m   1519\u001b[0m         \u001b[38;5;129;01mor\u001b[39;00m _global_forward_hooks \u001b[38;5;129;01mor\u001b[39;00m _global_forward_pre_hooks):\n\u001b[0;32m-> 1520\u001b[0m     \u001b[38;5;28;01mreturn\u001b[39;00m \u001b[43mforward_call\u001b[49m\u001b[43m(\u001b[49m\u001b[38;5;241;43m*\u001b[39;49m\u001b[43margs\u001b[49m\u001b[43m,\u001b[49m\u001b[43m \u001b[49m\u001b[38;5;241;43m*\u001b[39;49m\u001b[38;5;241;43m*\u001b[39;49m\u001b[43mkwargs\u001b[49m\u001b[43m)\u001b[49m\n\u001b[1;32m   1522\u001b[0m \u001b[38;5;28;01mtry\u001b[39;00m:\n\u001b[1;32m   1523\u001b[0m     result \u001b[38;5;241m=\u001b[39m \u001b[38;5;28;01mNone\u001b[39;00m\n",
      "Cell \u001b[0;32mIn[14], line 11\u001b[0m, in \u001b[0;36mMaskClipHead.forward\u001b[0;34m(self, x)\u001b[0m\n\u001b[1;32m     10\u001b[0m \u001b[38;5;28;01mdef\u001b[39;00m \u001b[38;5;21mforward\u001b[39m(\u001b[38;5;28mself\u001b[39m, x):\n\u001b[0;32m---> 11\u001b[0m     x \u001b[38;5;241m=\u001b[39m \u001b[38;5;28;43mself\u001b[39;49m\u001b[38;5;241;43m.\u001b[39;49m\u001b[43mv_proj\u001b[49m\u001b[43m(\u001b[49m\u001b[43mx\u001b[49m\u001b[43m)\u001b[49m\n\u001b[1;32m     12\u001b[0m     x \u001b[38;5;241m=\u001b[39m \u001b[38;5;28mself\u001b[39m\u001b[38;5;241m.\u001b[39mc_proj(x)\n\u001b[1;32m     13\u001b[0m     x \u001b[38;5;241m=\u001b[39m F\u001b[38;5;241m.\u001b[39mconv2d(x, \u001b[38;5;28mself\u001b[39m\u001b[38;5;241m.\u001b[39mtext_emb[:, :, \u001b[38;5;28;01mNone\u001b[39;00m, \u001b[38;5;28;01mNone\u001b[39;00m])\n",
      "File \u001b[0;32m/opt/homebrew/Caskroom/miniforge/base/envs/research/lib/python3.12/site-packages/torch/nn/modules/module.py:1511\u001b[0m, in \u001b[0;36mModule._wrapped_call_impl\u001b[0;34m(self, *args, **kwargs)\u001b[0m\n\u001b[1;32m   1509\u001b[0m     \u001b[38;5;28;01mreturn\u001b[39;00m \u001b[38;5;28mself\u001b[39m\u001b[38;5;241m.\u001b[39m_compiled_call_impl(\u001b[38;5;241m*\u001b[39margs, \u001b[38;5;241m*\u001b[39m\u001b[38;5;241m*\u001b[39mkwargs)  \u001b[38;5;66;03m# type: ignore[misc]\u001b[39;00m\n\u001b[1;32m   1510\u001b[0m \u001b[38;5;28;01melse\u001b[39;00m:\n\u001b[0;32m-> 1511\u001b[0m     \u001b[38;5;28;01mreturn\u001b[39;00m \u001b[38;5;28;43mself\u001b[39;49m\u001b[38;5;241;43m.\u001b[39;49m\u001b[43m_call_impl\u001b[49m\u001b[43m(\u001b[49m\u001b[38;5;241;43m*\u001b[39;49m\u001b[43margs\u001b[49m\u001b[43m,\u001b[49m\u001b[43m \u001b[49m\u001b[38;5;241;43m*\u001b[39;49m\u001b[38;5;241;43m*\u001b[39;49m\u001b[43mkwargs\u001b[49m\u001b[43m)\u001b[49m\n",
      "File \u001b[0;32m/opt/homebrew/Caskroom/miniforge/base/envs/research/lib/python3.12/site-packages/torch/nn/modules/module.py:1520\u001b[0m, in \u001b[0;36mModule._call_impl\u001b[0;34m(self, *args, **kwargs)\u001b[0m\n\u001b[1;32m   1515\u001b[0m \u001b[38;5;66;03m# If we don't have any hooks, we want to skip the rest of the logic in\u001b[39;00m\n\u001b[1;32m   1516\u001b[0m \u001b[38;5;66;03m# this function, and just call forward.\u001b[39;00m\n\u001b[1;32m   1517\u001b[0m \u001b[38;5;28;01mif\u001b[39;00m \u001b[38;5;129;01mnot\u001b[39;00m (\u001b[38;5;28mself\u001b[39m\u001b[38;5;241m.\u001b[39m_backward_hooks \u001b[38;5;129;01mor\u001b[39;00m \u001b[38;5;28mself\u001b[39m\u001b[38;5;241m.\u001b[39m_backward_pre_hooks \u001b[38;5;129;01mor\u001b[39;00m \u001b[38;5;28mself\u001b[39m\u001b[38;5;241m.\u001b[39m_forward_hooks \u001b[38;5;129;01mor\u001b[39;00m \u001b[38;5;28mself\u001b[39m\u001b[38;5;241m.\u001b[39m_forward_pre_hooks\n\u001b[1;32m   1518\u001b[0m         \u001b[38;5;129;01mor\u001b[39;00m _global_backward_pre_hooks \u001b[38;5;129;01mor\u001b[39;00m _global_backward_hooks\n\u001b[1;32m   1519\u001b[0m         \u001b[38;5;129;01mor\u001b[39;00m _global_forward_hooks \u001b[38;5;129;01mor\u001b[39;00m _global_forward_pre_hooks):\n\u001b[0;32m-> 1520\u001b[0m     \u001b[38;5;28;01mreturn\u001b[39;00m \u001b[43mforward_call\u001b[49m\u001b[43m(\u001b[49m\u001b[38;5;241;43m*\u001b[39;49m\u001b[43margs\u001b[49m\u001b[43m,\u001b[49m\u001b[43m \u001b[49m\u001b[38;5;241;43m*\u001b[39;49m\u001b[38;5;241;43m*\u001b[39;49m\u001b[43mkwargs\u001b[49m\u001b[43m)\u001b[49m\n\u001b[1;32m   1522\u001b[0m \u001b[38;5;28;01mtry\u001b[39;00m:\n\u001b[1;32m   1523\u001b[0m     result \u001b[38;5;241m=\u001b[39m \u001b[38;5;28;01mNone\u001b[39;00m\n",
      "File \u001b[0;32m/opt/homebrew/Caskroom/miniforge/base/envs/research/lib/python3.12/site-packages/torch/nn/modules/linear.py:116\u001b[0m, in \u001b[0;36mLinear.forward\u001b[0;34m(self, input)\u001b[0m\n\u001b[1;32m    115\u001b[0m \u001b[38;5;28;01mdef\u001b[39;00m \u001b[38;5;21mforward\u001b[39m(\u001b[38;5;28mself\u001b[39m, \u001b[38;5;28minput\u001b[39m: Tensor) \u001b[38;5;241m-\u001b[39m\u001b[38;5;241m>\u001b[39m Tensor:\n\u001b[0;32m--> 116\u001b[0m     \u001b[38;5;28;01mreturn\u001b[39;00m \u001b[43mF\u001b[49m\u001b[38;5;241;43m.\u001b[39;49m\u001b[43mlinear\u001b[49m\u001b[43m(\u001b[49m\u001b[38;5;28;43minput\u001b[39;49m\u001b[43m,\u001b[49m\u001b[43m \u001b[49m\u001b[38;5;28;43mself\u001b[39;49m\u001b[38;5;241;43m.\u001b[39;49m\u001b[43mweight\u001b[49m\u001b[43m,\u001b[49m\u001b[43m \u001b[49m\u001b[38;5;28;43mself\u001b[39;49m\u001b[38;5;241;43m.\u001b[39;49m\u001b[43mbias\u001b[49m\u001b[43m)\u001b[49m\n",
      "\u001b[0;31mRuntimeError\u001b[0m: mat1 and mat2 shapes cannot be multiplied (143360x7 and 1024x1024)"
     ]
    }
   ],
   "source": [
    "mask_clip_head = MaskClipHead(torch.randn(10, 1024), 2048, 1024)\n",
    "mask_clip_head(torch.rand(10, 2048, 7, 7))"
   ]
  },
  {
   "cell_type": "code",
   "execution_count": 18,
   "metadata": {},
   "outputs": [],
   "source": [
    "class Identical(nn.Module):\n",
    "    def __init__(self) -> None:\n",
    "        super(Identical, self).__init__()\n",
    "    \n",
    "    def forward(self, x):\n",
    "        return x\n",
    "\n",
    "clip_model, clip_preprocess = clip.load('RN50')\n",
    "clip_model.visual.attnpool = Identical()"
   ]
  },
  {
   "cell_type": "code",
   "execution_count": 20,
   "metadata": {},
   "outputs": [
    {
     "data": {
      "text/plain": [
       "torch.Size([1, 2048, 7, 7])"
      ]
     },
     "execution_count": 20,
     "metadata": {},
     "output_type": "execute_result"
    }
   ],
   "source": [
    "clip_model.encode_image(torch.rand(1,3,224,224)).shape"
   ]
  },
  {
   "cell_type": "code",
   "execution_count": 11,
   "metadata": {},
   "outputs": [],
   "source": [
    "state_dict = clip_model.state_dict()"
   ]
  },
  {
   "cell_type": "code",
   "execution_count": 13,
   "metadata": {},
   "outputs": [
    {
     "data": {
      "text/plain": [
       "['visual.attnpool.positional_embedding',\n",
       " 'visual.attnpool.k_proj.weight',\n",
       " 'visual.attnpool.k_proj.bias',\n",
       " 'visual.attnpool.q_proj.weight',\n",
       " 'visual.attnpool.q_proj.bias',\n",
       " 'visual.attnpool.v_proj.weight',\n",
       " 'visual.attnpool.v_proj.bias',\n",
       " 'visual.attnpool.c_proj.weight',\n",
       " 'visual.attnpool.c_proj.bias']"
      ]
     },
     "execution_count": 13,
     "metadata": {},
     "output_type": "execute_result"
    }
   ],
   "source": [
    "list(k for k in state_dict.keys() if k.startswith('visual.attnpool'))"
   ]
  },
  {
   "cell_type": "code",
   "execution_count": 17,
   "metadata": {},
   "outputs": [
    {
     "data": {
      "text/plain": [
       "torch.Size([2048, 2048])"
      ]
     },
     "execution_count": 17,
     "metadata": {},
     "output_type": "execute_result"
    }
   ],
   "source": [
    "state_dict['visual.attnpool.k_proj.weight'].shape"
   ]
  },
  {
   "cell_type": "code",
   "execution_count": null,
   "metadata": {},
   "outputs": [],
   "source": []
  },
  {
   "cell_type": "code",
   "execution_count": null,
   "metadata": {},
   "outputs": [],
   "source": [
    "# Copyright (c) OpenMMLab. All rights reserved.\n",
    "import torch\n",
    "import torch.nn as nn\n",
    "import torch.nn.functional as F\n",
    "\n",
    "from mmcv.utils import print_log\n",
    "from mmseg.utils import get_root_logger\n",
    "from ..builder import HEADS\n",
    "from .decode_head import BaseDecodeHead\n",
    "\n",
    "@HEADS.register_module()\n",
    "class MaskClipHead(BaseDecodeHead):\n",
    "\n",
    "    def __init__(self, text_categories, text_channels, text_embeddings_path,\n",
    "                    visual_projs_path, vit=False, ks_thresh=0., pd_thresh=0.,\n",
    "                    attn_pooling=False, num_heads=32, **kwargs):\n",
    "        super(MaskClipHead, self).__init__(**kwargs)\n",
    "\n",
    "        self.text_categories = text_categories\n",
    "        self.text_channels = text_channels\n",
    "        self.text_embeddings_path = text_embeddings_path\n",
    "        self.visual_projs_path = visual_projs_path\n",
    "\n",
    "        if self.text_embeddings_path is None:\n",
    "            self.text_embeddings = nn.Parameter(torch.zeros(text_categories, text_channels))\n",
    "            nn.init.normal_(self.text_embeddings, mean=0.0, std=0.01)\n",
    "        else:\n",
    "            self.register_buffer('text_embeddings', torch.randn(text_categories, text_channels))\n",
    "            self.load_text_embeddings()\n",
    "        \n",
    "        self.vit = vit\n",
    "        if vit:\n",
    "            self.proj = nn.Conv2d(self.in_channels, text_channels, 1, bias=False)\n",
    "        else:\n",
    "            self.q_proj = nn.Conv2d(self.in_channels, self.in_channels, 1)\n",
    "            self.k_proj = nn.Conv2d(self.in_channels, self.in_channels, 1)\n",
    "            self.v_proj = nn.Conv2d(self.in_channels, self.in_channels, 1)\n",
    "            self.c_proj = nn.Conv2d(self.in_channels, text_channels, 1)\n",
    "        self.load_visual_projs()\n",
    "\n",
    "        self.ks_thresh = ks_thresh\n",
    "        self.pd_thresh = pd_thresh\n",
    "        self.attn_pooling = attn_pooling\n",
    "        self.num_heads = num_heads\n",
    "\n",
    "    def init_weights(self):\n",
    "        super(MaskClipHead, self).init_weights()\n",
    "        if self.text_embeddings_path is None:\n",
    "            nn.init.normal_(self.text_embeddings, mean=0.0, std=0.01)\n",
    "        else:\n",
    "            self.load_text_embeddings()\n",
    "        self.load_visual_projs()\n",
    "\n",
    "    def load_text_embeddings(self):\n",
    "        loaded = torch.load(self.text_embeddings_path, map_location='cuda')\n",
    "        self.text_embeddings[:, :] = loaded[:, :]\n",
    "        print_log(f'Loaded text embeddings from {self.text_embeddings_path}', logger=get_root_logger())\n",
    "\n",
    "    def load_visual_projs(self):\n",
    "        loaded = torch.load(self.visual_projs_path, map_location='cuda')\n",
    "        attrs = ['proj'] if self.vit else ['q_proj', 'k_proj', 'v_proj', 'c_proj']\n",
    "        for attr in attrs:\n",
    "            current_attr = getattr(self, attr)\n",
    "            state_dict = loaded[attr]\n",
    "            for key in state_dict:\n",
    "                if 'weight' in key:\n",
    "                    state_dict[key] = state_dict[key][:, :, None, None]\n",
    "            current_attr.load_state_dict(state_dict)\n",
    "        print_log(f'Loaded proj weights from {self.visual_projs_path}', logger=get_root_logger())\n",
    "    \n",
    "    def forward(self, inputs):\n",
    "        x = self._transform_inputs(inputs)\n",
    "        q, k, v, cls_token = None, None, None, None\n",
    "        if self.vit:\n",
    "            if isinstance(x, list) and len(x) == 4:\n",
    "                x, q, k, v = x\n",
    "            if isinstance(x, list) and len(x) == 2:\n",
    "                x, cls_token = x\n",
    "            if v is not None:\n",
    "                feat = self.proj(v)\n",
    "            else:\n",
    "                feat = self.proj(x)\n",
    "            if cls_token is not None:\n",
    "                cls_token = self.proj(cls_token[:, :, None, None])[:, :, 0, 0]\n",
    "        else:\n",
    "            if self.attn_pooling:\n",
    "                N, C, H, W = x.shape\n",
    "                x = x.view(N, C, -1).permute(2, 0, 1)  # NCHW -> (HW)NC\n",
    "                x = torch.cat([x.mean(dim=0, keepdim=True), x], dim=0)\n",
    "                x, _ = F.multi_head_attention_forward(\n",
    "                    query=x, key=x, value=x,\n",
    "                    embed_dim_to_check=x.shape[-1],\n",
    "                    num_heads=self.num_heads,\n",
    "                    q_proj_weight=self.q_proj.weight[:, :, 0, 0],\n",
    "                    k_proj_weight=self.k_proj.weight[:, :, 0, 0],\n",
    "                    v_proj_weight=self.v_proj.weight[:, :, 0, 0],\n",
    "                    in_proj_weight=None,\n",
    "                    in_proj_bias=torch.cat([self.q_proj.bias, self.k_proj.bias, self.v_proj.bias]),\n",
    "                    bias_k=None,\n",
    "                    bias_v=None,\n",
    "                    add_zero_attn=False,\n",
    "                    dropout_p=0,\n",
    "                    out_proj_weight=self.c_proj.weight[:, :, 0, 0],\n",
    "                    out_proj_bias=self.c_proj.bias,\n",
    "                    use_separate_proj_weight=True,\n",
    "                    training=self.training,\n",
    "                    need_weights=False\n",
    "                )\n",
    "                feat = x[1:].permute(1, 2, 0).view(N, -1, H, W)\n",
    "            else:\n",
    "                q = self.q_proj(x)\n",
    "                k = self.k_proj(x)\n",
    "                q = torch.flatten(q, start_dim=2).transpose(-2, -1)\n",
    "                k = torch.flatten(k, start_dim=2).transpose(-2, -1)\n",
    "                v = self.v_proj(x)\n",
    "                feat = self.c_proj(v)\n",
    "        output = self.cls_seg(feat)\n",
    "        if not self.training:\n",
    "            output = self.refine_output(output, k)\n",
    "\n",
    "        return output\n",
    "\n",
    "    def cls_seg(self, feat):\n",
    "        feat = feat / feat.norm(dim=1, keepdim=True)\n",
    "        output = F.conv2d(feat, self.text_embeddings[:, :, None, None])\n",
    "        \n",
    "        return output\n",
    "\n",
    "    def refine_output(self, output, k):\n",
    "        if self.pd_thresh > 0:\n",
    "            N, C, H, W = output.shape\n",
    "            _output = F.softmax(output*100, dim=1)\n",
    "            max_cls_conf = _output.view(N, C, -1).max(dim=-1)[0]\n",
    "            selected_cls = (max_cls_conf < self.pd_thresh)[:, :, None, None].expand(N, C, H, W)\n",
    "            output[selected_cls] = -100\n",
    "\n",
    "        if k is not None and self.ks_thresh > 0:\n",
    "            output = F.softmax(output*100, dim=1)\n",
    "            N, C, H, W = output.shape\n",
    "            output = output.view(N, C, -1).transpose(-2, -1)\n",
    "            # softmax\n",
    "            # weight = k @ k.transpose(-2, -1)\n",
    "            # weight = F.softmax(weight, dim=-1)\n",
    "            # L2 distance\n",
    "            k = F.normalize(k, p=2)\n",
    "            weight = k @ k.transpose(-2, -1)\n",
    "\n",
    "            selected_pos = (output.max(dim=-1, keepdim=True)[0] < self.ks_thresh)\n",
    "            selected_pos = selected_pos.expand(-1, -1, C)\n",
    "\n",
    "            weighted_output = weight @ output\n",
    "            output[selected_pos] = weighted_output[selected_pos]\n",
    "            output = output.transpose(-2, -1).view(N, C, H, W)\n",
    "\n",
    "        return output\n",
    "\n",
    "    def forward_train(self, inputs, img_metas, gt_semantic_seg, train_cfg):\n",
    "        raise RuntimeError('MaskClip is not trainable. Try MaskClip+ instead.')"
   ]
  }
 ],
 "metadata": {
  "kernelspec": {
   "display_name": "research",
   "language": "python",
   "name": "python3"
  },
  "language_info": {
   "codemirror_mode": {
    "name": "ipython",
    "version": 3
   },
   "file_extension": ".py",
   "mimetype": "text/x-python",
   "name": "python",
   "nbconvert_exporter": "python",
   "pygments_lexer": "ipython3",
   "version": "3.12.2"
  }
 },
 "nbformat": 4,
 "nbformat_minor": 2
}
